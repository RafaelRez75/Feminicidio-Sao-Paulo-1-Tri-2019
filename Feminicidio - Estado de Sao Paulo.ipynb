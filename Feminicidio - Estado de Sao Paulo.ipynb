{
 "cells": [
  {
   "cell_type": "code",
   "execution_count": 4,
   "metadata": {},
   "outputs": [],
   "source": [
    "###Caique Rafael dos Santos, Rafael Rezende da Silva\";\n
    "    #Dados de Feminicídio do Primeiro Trimestre no estado de São Paulo;\n",
    "    #http://www.ssp.sp.gov.br/transparenciassp/;\n",
    "    #O trabalho extrai dados do link acima;\n",
    "    #com foco no estado civil, periodo da ocorrência e tipo da violencia;\n",
    "    #Os dados estão comprometidos uma vez que ao restringir os dados apenas para a maioria,\n",
    "    #que tem o estado civil de união estavel e solteiros, e o tipo de violência é homicidio,\n",
    "    #qualificado o periodo da ocorrência se altera em relação do total sem os filtros."
   ]
  },
  {
   "cell_type": "code",
   "execution_count": 5,
   "metadata": {},
   "outputs": [],
   "source": [
    "import pandas as pd\n",
    "import seaborn as sb\n",
    "low_memory=False\n",
    "%matplotlib inline\n",
    "pd.options.display.max_columns = 80\n",
    "pd.options.display.max_rows = 90"
   ]
  },
  {
   "cell_type": "code",
   "execution_count": 6,
   "metadata": {},
   "outputs": [],
   "source": [
    "filename = 'C:/Users/Aluno/DadosBO_2019(FEMINICIDIO).xlsx'\n",
    "df = pd.read_excel(filename)"
   ]
  },
  {
   "cell_type": "code",
   "execution_count": 7,
   "metadata": {},
   "outputs": [
    {
     "data": {
      "text/plain": [
       "(77, 51)"
      ]
     },
     "execution_count": 7,
     "metadata": {},
     "output_type": "execute_result"
    }
   ],
   "source": [
    "df.shape"
   ]
  },
  {
   "cell_type": "code",
   "execution_count": 8,
   "metadata": {
    "scrolled": true
   },
   "outputs": [
    {
     "data": {
      "text/html": [
       "<div>\n",
       "<style scoped>\n",
       "    .dataframe tbody tr th:only-of-type {\n",
       "        vertical-align: middle;\n",
       "    }\n",
       "\n",
       "    .dataframe tbody tr th {\n",
       "        vertical-align: top;\n",
       "    }\n",
       "\n",
       "    .dataframe thead th {\n",
       "        text-align: right;\n",
       "    }\n",
       "</style>\n",
       "<table border=\"1\" class=\"dataframe\">\n",
       "  <thead>\n",
       "    <tr style=\"text-align: right;\">\n",
       "      <th></th>\n",
       "      <th>ANO_BO</th>\n",
       "      <th>NUM_BO</th>\n",
       "      <th>NUMERO</th>\n",
       "      <th>LATITUDE</th>\n",
       "      <th>LONGITUDE</th>\n",
       "      <th>RG</th>\n",
       "      <th>IDADE</th>\n",
       "      <th>CORCUTIS</th>\n",
       "      <th>PLACA_VEICULO</th>\n",
       "      <th>UF_VEICULO</th>\n",
       "      <th>CIDADE_VEICULO</th>\n",
       "      <th>DESCR_COR_VEICULO</th>\n",
       "      <th>DESCR_MARCA_VEICULO</th>\n",
       "      <th>ANO_FABRICACAO</th>\n",
       "      <th>ANO_MODELO</th>\n",
       "    </tr>\n",
       "  </thead>\n",
       "  <tbody>\n",
       "    <tr>\n",
       "      <th>count</th>\n",
       "      <td>77.0</td>\n",
       "      <td>77.000000</td>\n",
       "      <td>77.000000</td>\n",
       "      <td>14.000000</td>\n",
       "      <td>14.000000</td>\n",
       "      <td>6.800000e+01</td>\n",
       "      <td>70.000000</td>\n",
       "      <td>0.0</td>\n",
       "      <td>0.0</td>\n",
       "      <td>0.0</td>\n",
       "      <td>0.0</td>\n",
       "      <td>0.0</td>\n",
       "      <td>0.0</td>\n",
       "      <td>77.0</td>\n",
       "      <td>77.0</td>\n",
       "    </tr>\n",
       "    <tr>\n",
       "      <th>mean</th>\n",
       "      <td>2019.0</td>\n",
       "      <td>532.441558</td>\n",
       "      <td>75.077922</td>\n",
       "      <td>-23.046747</td>\n",
       "      <td>-47.060285</td>\n",
       "      <td>3.621171e+07</td>\n",
       "      <td>37.600000</td>\n",
       "      <td>NaN</td>\n",
       "      <td>NaN</td>\n",
       "      <td>NaN</td>\n",
       "      <td>NaN</td>\n",
       "      <td>NaN</td>\n",
       "      <td>NaN</td>\n",
       "      <td>0.0</td>\n",
       "      <td>0.0</td>\n",
       "    </tr>\n",
       "    <tr>\n",
       "      <th>std</th>\n",
       "      <td>0.0</td>\n",
       "      <td>629.284357</td>\n",
       "      <td>380.353602</td>\n",
       "      <td>0.461011</td>\n",
       "      <td>0.850232</td>\n",
       "      <td>1.378438e+07</td>\n",
       "      <td>11.666128</td>\n",
       "      <td>NaN</td>\n",
       "      <td>NaN</td>\n",
       "      <td>NaN</td>\n",
       "      <td>NaN</td>\n",
       "      <td>NaN</td>\n",
       "      <td>NaN</td>\n",
       "      <td>0.0</td>\n",
       "      <td>0.0</td>\n",
       "    </tr>\n",
       "    <tr>\n",
       "      <th>min</th>\n",
       "      <td>2019.0</td>\n",
       "      <td>15.000000</td>\n",
       "      <td>0.000000</td>\n",
       "      <td>-23.683681</td>\n",
       "      <td>-49.948532</td>\n",
       "      <td>7.592875e+06</td>\n",
       "      <td>13.000000</td>\n",
       "      <td>NaN</td>\n",
       "      <td>NaN</td>\n",
       "      <td>NaN</td>\n",
       "      <td>NaN</td>\n",
       "      <td>NaN</td>\n",
       "      <td>NaN</td>\n",
       "      <td>0.0</td>\n",
       "      <td>0.0</td>\n",
       "    </tr>\n",
       "    <tr>\n",
       "      <th>25%</th>\n",
       "      <td>2019.0</td>\n",
       "      <td>89.000000</td>\n",
       "      <td>0.000000</td>\n",
       "      <td>-23.464058</td>\n",
       "      <td>-46.984090</td>\n",
       "      <td>2.719670e+07</td>\n",
       "      <td>28.000000</td>\n",
       "      <td>NaN</td>\n",
       "      <td>NaN</td>\n",
       "      <td>NaN</td>\n",
       "      <td>NaN</td>\n",
       "      <td>NaN</td>\n",
       "      <td>NaN</td>\n",
       "      <td>0.0</td>\n",
       "      <td>0.0</td>\n",
       "    </tr>\n",
       "    <tr>\n",
       "      <th>50%</th>\n",
       "      <td>2019.0</td>\n",
       "      <td>281.000000</td>\n",
       "      <td>0.000000</td>\n",
       "      <td>-22.823629</td>\n",
       "      <td>-46.893262</td>\n",
       "      <td>3.704332e+07</td>\n",
       "      <td>38.000000</td>\n",
       "      <td>NaN</td>\n",
       "      <td>NaN</td>\n",
       "      <td>NaN</td>\n",
       "      <td>NaN</td>\n",
       "      <td>NaN</td>\n",
       "      <td>NaN</td>\n",
       "      <td>0.0</td>\n",
       "      <td>0.0</td>\n",
       "    </tr>\n",
       "    <tr>\n",
       "      <th>75%</th>\n",
       "      <td>2019.0</td>\n",
       "      <td>774.000000</td>\n",
       "      <td>0.000000</td>\n",
       "      <td>-22.723001</td>\n",
       "      <td>-46.802868</td>\n",
       "      <td>4.743140e+07</td>\n",
       "      <td>42.000000</td>\n",
       "      <td>NaN</td>\n",
       "      <td>NaN</td>\n",
       "      <td>NaN</td>\n",
       "      <td>NaN</td>\n",
       "      <td>NaN</td>\n",
       "      <td>NaN</td>\n",
       "      <td>0.0</td>\n",
       "      <td>0.0</td>\n",
       "    </tr>\n",
       "    <tr>\n",
       "      <th>max</th>\n",
       "      <td>2019.0</td>\n",
       "      <td>3010.000000</td>\n",
       "      <td>2355.000000</td>\n",
       "      <td>-22.216694</td>\n",
       "      <td>-46.433882</td>\n",
       "      <td>6.042539e+07</td>\n",
       "      <td>63.000000</td>\n",
       "      <td>NaN</td>\n",
       "      <td>NaN</td>\n",
       "      <td>NaN</td>\n",
       "      <td>NaN</td>\n",
       "      <td>NaN</td>\n",
       "      <td>NaN</td>\n",
       "      <td>0.0</td>\n",
       "      <td>0.0</td>\n",
       "    </tr>\n",
       "  </tbody>\n",
       "</table>\n",
       "</div>"
      ],
      "text/plain": [
       "       ANO_BO       NUM_BO       NUMERO   LATITUDE  LONGITUDE            RG  \\\n",
       "count    77.0    77.000000    77.000000  14.000000  14.000000  6.800000e+01   \n",
       "mean   2019.0   532.441558    75.077922 -23.046747 -47.060285  3.621171e+07   \n",
       "std       0.0   629.284357   380.353602   0.461011   0.850232  1.378438e+07   \n",
       "min    2019.0    15.000000     0.000000 -23.683681 -49.948532  7.592875e+06   \n",
       "25%    2019.0    89.000000     0.000000 -23.464058 -46.984090  2.719670e+07   \n",
       "50%    2019.0   281.000000     0.000000 -22.823629 -46.893262  3.704332e+07   \n",
       "75%    2019.0   774.000000     0.000000 -22.723001 -46.802868  4.743140e+07   \n",
       "max    2019.0  3010.000000  2355.000000 -22.216694 -46.433882  6.042539e+07   \n",
       "\n",
       "           IDADE  CORCUTIS  PLACA_VEICULO  UF_VEICULO  CIDADE_VEICULO  \\\n",
       "count  70.000000       0.0            0.0         0.0             0.0   \n",
       "mean   37.600000       NaN            NaN         NaN             NaN   \n",
       "std    11.666128       NaN            NaN         NaN             NaN   \n",
       "min    13.000000       NaN            NaN         NaN             NaN   \n",
       "25%    28.000000       NaN            NaN         NaN             NaN   \n",
       "50%    38.000000       NaN            NaN         NaN             NaN   \n",
       "75%    42.000000       NaN            NaN         NaN             NaN   \n",
       "max    63.000000       NaN            NaN         NaN             NaN   \n",
       "\n",
       "       DESCR_COR_VEICULO  DESCR_MARCA_VEICULO  ANO_FABRICACAO  ANO_MODELO  \n",
       "count                0.0                  0.0            77.0        77.0  \n",
       "mean                 NaN                  NaN             0.0         0.0  \n",
       "std                  NaN                  NaN             0.0         0.0  \n",
       "min                  NaN                  NaN             0.0         0.0  \n",
       "25%                  NaN                  NaN             0.0         0.0  \n",
       "50%                  NaN                  NaN             0.0         0.0  \n",
       "75%                  NaN                  NaN             0.0         0.0  \n",
       "max                  NaN                  NaN             0.0         0.0  "
      ]
     },
     "execution_count": 8,
     "metadata": {},
     "output_type": "execute_result"
    }
   ],
   "source": [
    "df.describe()"
   ]
  },
  {
   "cell_type": "code",
   "execution_count": 9,
   "metadata": {},
   "outputs": [
    {
     "name": "stdout",
     "output_type": "stream",
     "text": [
      "<class 'pandas.core.frame.DataFrame'>\n",
      "RangeIndex: 77 entries, 0 to 76\n",
      "Data columns (total 51 columns):\n",
      "ANO_BO                      77 non-null int64\n",
      "NUM_BO                      77 non-null int64\n",
      "NUMERO_BOLETIM              77 non-null object\n",
      "BO_INICIADO                 77 non-null datetime64[ns]\n",
      "BO_EMITIDO                  77 non-null datetime64[ns]\n",
      "DATAOCORRENCIA              77 non-null datetime64[ns]\n",
      "PERIODOOCORRENCIA           77 non-null object\n",
      "DATACOMUNICACAO             77 non-null datetime64[ns]\n",
      "DATAELABORACAO              77 non-null datetime64[ns]\n",
      "BO_AUTORIA                  77 non-null object\n",
      "FLAGRANTE                   77 non-null object\n",
      "NUMERO_BOLETIM_PRINCIPAL    7 non-null object\n",
      "LOGRADOURO                  14 non-null object\n",
      "NUMERO                      77 non-null int64\n",
      "BAIRRO                      14 non-null object\n",
      "CIDADE                      14 non-null object\n",
      "UF                          14 non-null object\n",
      "LATITUDE                    14 non-null float64\n",
      "LONGITUDE                   14 non-null float64\n",
      "DESCRICAOLOCAL              77 non-null object\n",
      "EXAME                       65 non-null object\n",
      "SOLUCAO                     77 non-null object\n",
      "DELEGACIA_NOME              77 non-null object\n",
      "DELEGACIA_CIRCUNSCRICAO     77 non-null object\n",
      "ESPECIE                     77 non-null object\n",
      "RUBRICA                     77 non-null object\n",
      "DESDOBRAMENTO               55 non-null object\n",
      "STATUS                      77 non-null object\n",
      "NOMEPESSOA                  71 non-null object\n",
      "TIPOPESSOA                  71 non-null object\n",
      "VITIMAFATAL                 71 non-null object\n",
      "RG                          68 non-null float64\n",
      "RG_UF                       68 non-null object\n",
      "NATURALIDADE                70 non-null object\n",
      "NACIONALIDADE               67 non-null object\n",
      "SEXO                        71 non-null object\n",
      "DATANASCIMENTO              70 non-null datetime64[ns]\n",
      "IDADE                       70 non-null float64\n",
      "ESTADOCIVIL                 69 non-null object\n",
      "PROFISSAO                   49 non-null object\n",
      "GRAUINSTRUCAO               30 non-null object\n",
      "CORCUTIS                    0 non-null float64\n",
      "NATUREZAVINCULADA           71 non-null object\n",
      "TIPOVINCULO                 71 non-null object\n",
      "PLACA_VEICULO               0 non-null float64\n",
      "UF_VEICULO                  0 non-null float64\n",
      "CIDADE_VEICULO              0 non-null float64\n",
      "DESCR_COR_VEICULO           0 non-null float64\n",
      "DESCR_MARCA_VEICULO         0 non-null float64\n",
      "ANO_FABRICACAO              77 non-null int64\n",
      "ANO_MODELO                  77 non-null int64\n",
      "dtypes: datetime64[ns](6), float64(10), int64(5), object(30)\n",
      "memory usage: 21.7+ KB\n"
     ]
    }
   ],
   "source": [
    "df.info()"
   ]
  },
  {
   "cell_type": "code",
   "execution_count": 10,
   "metadata": {},
   "outputs": [
    {
     "data": {
      "text/plain": [
       "ESTADOCIVIL\n",
       "Divorciado        3\n",
       "Ignorado          4\n",
       "Casado           14\n",
       "União Estável    20\n",
       "Solteiro         28\n",
       "dtype: int64"
      ]
     },
     "execution_count": 10,
     "metadata": {},
     "output_type": "execute_result"
    }
   ],
   "source": [
    "df.groupby('ESTADOCIVIL').size().sort_values()"
   ]
  },
  {
   "cell_type": "code",
   "execution_count": 11,
   "metadata": {},
   "outputs": [
    {
     "data": {
      "text/plain": [
       "<matplotlib.axes._subplots.AxesSubplot at 0x11e217b0>"
      ]
     },
     "execution_count": 11,
     "metadata": {},
     "output_type": "execute_result"
    },
    {
     "data": {
      "image/png": "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\n",
      "text/plain": [
       "<Figure size 432x288 with 1 Axes>"
      ]
     },
     "metadata": {
      "needs_background": "light"
     },
     "output_type": "display_data"
    }
   ],
   "source": [
    "df.groupby('ESTADOCIVIL').size().sort_values().plot(kind='barh')"
   ]
  },
  {
   "cell_type": "markdown",
   "metadata": {},
   "source": [
    "## Vemos que a maioria dos relatos de feminicídios são de pessoas solteiras  ou em união estável"
   ]
  },
  {
   "cell_type": "code",
   "execution_count": 12,
   "metadata": {},
   "outputs": [
    {
     "data": {
      "text/plain": [
       "PERIODOOCORRENCIA\n",
       "A TARDE         14\n",
       "A NOITE         16\n",
       "PELA MANHÃ      19\n",
       "DE MADRUGADA    28\n",
       "dtype: int64"
      ]
     },
     "execution_count": 12,
     "metadata": {},
     "output_type": "execute_result"
    }
   ],
   "source": [
    "df.groupby('PERIODOOCORRENCIA').size().sort_values()"
   ]
  },
  {
   "cell_type": "code",
   "execution_count": 13,
   "metadata": {},
   "outputs": [
    {
     "data": {
      "text/plain": [
       "<matplotlib.axes._subplots.AxesSubplot at 0x11ea04f0>"
      ]
     },
     "execution_count": 13,
     "metadata": {},
     "output_type": "execute_result"
    },
    {
     "data": {
      "image/png": "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\n",
      "text/plain": [
       "<Figure size 432x288 with 1 Axes>"
      ]
     },
     "metadata": {
      "needs_background": "light"
     },
     "output_type": "display_data"
    }
   ],
   "source": [
    "df.groupby('PERIODOOCORRENCIA').size().sort_values().plot(kind='barh')"
   ]
  },
  {
   "cell_type": "markdown",
   "metadata": {},
   "source": [
    "## Observamos que a maioria dos relatos de feminicídios ocorrem pela madrugada"
   ]
  },
  {
   "cell_type": "code",
   "execution_count": 14,
   "metadata": {},
   "outputs": [
    {
     "data": {
      "text/plain": [
       "RUBRICA\n",
       "A.I.-Posse irregular de arma de fogo de uso permitido (Art.12)     1\n",
       "Destruição, subtração ou ocultação de cadáver (art. 211)           1\n",
       "Furto qualificado (art. 155, §4o.) - ESTABELECIMENTO-OUTROS        1\n",
       "Morte suspeita                                                     1\n",
       "Porte ilegal de arma de fogo de uso permitido (Art. 14)            1\n",
       "A.I.-Homicídio qualificado (art. 121, §2o.)                        2\n",
       "Homicídio simples (art. 121)                                       2\n",
       "Suicídio consumado                                                 5\n",
       "Violência Doméstica                                                9\n",
       "Homicídio qualificado (art. 121, §2o.)                            54\n",
       "dtype: int64"
      ]
     },
     "execution_count": 14,
     "metadata": {},
     "output_type": "execute_result"
    }
   ],
   "source": [
    "df.groupby('RUBRICA').size().sort_values()"
   ]
  },
  {
   "cell_type": "code",
   "execution_count": 15,
   "metadata": {},
   "outputs": [
    {
     "data": {
      "text/plain": [
       "<matplotlib.axes._subplots.AxesSubplot at 0x11eb6b50>"
      ]
     },
     "execution_count": 15,
     "metadata": {},
     "output_type": "execute_result"
    },
    {
     "data": {
      "image/png": "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\n",
      "text/plain": [
       "<Figure size 432x288 with 1 Axes>"
      ]
     },
     "metadata": {
      "needs_background": "light"
     },
     "output_type": "display_data"
    }
   ],
   "source": [
    "df.groupby('RUBRICA').size().sort_values().plot(kind='barh')"
   ]
  },
  {
   "cell_type": "markdown",
   "metadata": {},
   "source": [
    "## De todos os relatos, mais de 70% são descritos como homicídio qualificado"
   ]
  },
  {
   "cell_type": "code",
   "execution_count": 16,
   "metadata": {
    "scrolled": false
   },
   "outputs": [
    {
     "data": {
      "text/plain": [
       "PELA MANHÃ      6\n",
       "A NOITE         4\n",
       "DE MADRUGADA    4\n",
       "A TARDE         3\n",
       "Name: PERIODOOCORRENCIA, dtype: int64"
      ]
     },
     "execution_count": 16,
     "metadata": {},
     "output_type": "execute_result"
    }
   ],
   "source": [
    "df.query('RUBRICA == \"Homicídio qualificado (art. 121, §2o.)\" and ESTADOCIVIL == \"Solteiro\"').PERIODOOCORRENCIA.value_counts()"
   ]
  },
  {
   "cell_type": "code",
   "execution_count": 17,
   "metadata": {},
   "outputs": [
    {
     "data": {
      "text/plain": [
       "<matplotlib.axes._subplots.AxesSubplot at 0x130e4130>"
      ]
     },
     "execution_count": 17,
     "metadata": {},
     "output_type": "execute_result"
    },
    {
     "data": {
      "image/png": "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\n",
      "text/plain": [
       "<Figure size 432x288 with 1 Axes>"
      ]
     },
     "metadata": {
      "needs_background": "light"
     },
     "output_type": "display_data"
    }
   ],
   "source": [
    "df.query('RUBRICA == \"Homicídio qualificado (art. 121, §2o.)\" and ESTADOCIVIL == \"Solteiro\"').PERIODOOCORRENCIA.value_counts().sort_values().plot(kind='barh')"
   ]
  },
  {
   "cell_type": "markdown",
   "metadata": {},
   "source": [
    "## Quando temos foco só em homicídios qualificados em relação a pessoas solteiras a maioria dos casos ocorre pela manhã"
   ]
  },
  {
   "cell_type": "code",
   "execution_count": 18,
   "metadata": {},
   "outputs": [
    {
     "data": {
      "text/plain": [
       "PELA MANHÃ      7\n",
       "DE MADRUGADA    6\n",
       "A NOITE         1\n",
       "Name: PERIODOOCORRENCIA, dtype: int64"
      ]
     },
     "execution_count": 18,
     "metadata": {},
     "output_type": "execute_result"
    }
   ],
   "source": [
    "df.query('RUBRICA == \"Homicídio qualificado (art. 121, §2o.)\" and ESTADOCIVIL == \"União Estável\"').PERIODOOCORRENCIA.value_counts()\n"
   ]
  },
  {
   "cell_type": "code",
   "execution_count": 19,
   "metadata": {},
   "outputs": [
    {
     "data": {
      "text/plain": [
       "<matplotlib.axes._subplots.AxesSubplot at 0x131e63d0>"
      ]
     },
     "execution_count": 19,
     "metadata": {},
     "output_type": "execute_result"
    },
    {
     "data": {
      "image/png": "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\n",
      "text/plain": [
       "<Figure size 432x288 with 1 Axes>"
      ]
     },
     "metadata": {
      "needs_background": "light"
     },
     "output_type": "display_data"
    }
   ],
   "source": [
    "df.query('RUBRICA == \"Homicídio qualificado (art. 121, §2o.)\" and ESTADOCIVIL == \"União Estável\"').PERIODOOCORRENCIA.value_counts().sort_values().plot(kind='barh')"
   ]
  },
  {
   "cell_type": "markdown",
   "metadata": {},
   "source": [
    "## O que também se repete em relação a pessoas em união estável "
   ]
  },
  {
   "cell_type": "markdown",
   "metadata": {},
   "source": [
    "### Com os dados obtidos,concluimos que a maioria dos relatos são de pessoas solteiras ou em união estável, ocorridos pela madrugada, e se referem a homicídios qualificados. Mas quando temos foco só em homicídios qualificados em relação a pessoas solteiras ou em união estável, a maioria dos casos ocorrem pela manhã, contrariando a maioria total dos casos."
   ]
  }
 ],
 "metadata": {
  "kernelspec": {
   "display_name": "Python 3",
   "language": "python",
   "name": "python3"
  },
  "language_info": {
   "codemirror_mode": {
    "name": "ipython",
    "version": 3
   },
   "file_extension": ".py",
   "mimetype": "text/x-python",
   "name": "python",
   "nbconvert_exporter": "python",
   "pygments_lexer": "ipython3",
   "version": "3.6.4"
  }
 },
 "nbformat": 4,
 "nbformat_minor": 2
}
